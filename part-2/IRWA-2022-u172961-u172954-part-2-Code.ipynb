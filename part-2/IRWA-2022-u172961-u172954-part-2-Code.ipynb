{
  "cells": [
    {
      "cell_type": "markdown",
      "metadata": {
        "id": "A6t22L6yzH4M"
      },
      "source": [
        "# IRWA Final Project\n",
        "## **Part 2- Indexing & Evaluation**\n",
        "\n",
        "Authors:\n",
        "\n",
        "\n",
        "*   Malena Díaz - u172961\n",
        "*   Cristina Galvez - u172954\n",
        "\n",
        "\n",
        "\n",
        "\n"
      ]
    },
    {
      "cell_type": "code",
      "execution_count": 1,
      "metadata": {
        "id": "GIiA6arjpwqa"
      },
      "outputs": [],
      "source": [
        "data_path = 'drive/Shareddrives/IRWA/Project/data/tw_hurricane_data.json'\n",
        "map_path = 'drive/Shareddrives/IRWA/Project/data/tweet_document_ids_map.csv'\n",
        "tf_idf_path = 'drive/Shareddrives/IRWA/Project/data/tf_idf_results.txt' \n",
        "our_rel_asses_path = 'drive/Shareddrives/IRWA/Project/data/rel_assessments_2.csv' \n",
        "evaluation_gt_path = 'drive/Shareddrives/IRWA/Project/data/evaluation_gt.csv' "
      ]
    },
    {
      "cell_type": "code",
      "execution_count": 2,
      "metadata": {
        "colab": {
          "base_uri": "https://localhost:8080/"
        },
        "id": "2fnLKaF84HuE",
        "outputId": "e2fd68f2-1067-4bf2-da10-09cd2a8ae902"
      },
      "outputs": [
        {
          "output_type": "stream",
          "name": "stdout",
          "text": [
            "Looking in indexes: https://pypi.org/simple, https://us-python.pkg.dev/colab-wheels/public/simple/\n",
            "Collecting word2number\n",
            "  Downloading word2number-1.1.zip (9.7 kB)\n",
            "Building wheels for collected packages: word2number\n",
            "  Building wheel for word2number (setup.py) ... \u001b[?25l\u001b[?25hdone\n",
            "  Created wheel for word2number: filename=word2number-1.1-py3-none-any.whl size=5582 sha256=01f22fd0881cada1540b67be2aa8c961b5a4e7d591089e50de9bf50fc07b7a28\n",
            "  Stored in directory: /root/.cache/pip/wheels/4b/c3/77/a5f48aeb0d3efb7cd5ad61cbd3da30bbf9ffc9662b07c9f879\n",
            "Successfully built word2number\n",
            "Installing collected packages: word2number\n",
            "Successfully installed word2number-1.1\n"
          ]
        }
      ],
      "source": [
        "!pip install word2number"
      ]
    },
    {
      "cell_type": "code",
      "execution_count": 3,
      "metadata": {
        "colab": {
          "base_uri": "https://localhost:8080/"
        },
        "id": "KtBnFp04csGR",
        "outputId": "1dd030ca-d9ee-4376-fb15-a6c4b2682438"
      },
      "outputs": [
        {
          "output_type": "stream",
          "name": "stderr",
          "text": [
            "[nltk_data] Downloading package stopwords to /root/nltk_data...\n",
            "[nltk_data]   Unzipping corpora/stopwords.zip.\n"
          ]
        }
      ],
      "source": [
        "import json\n",
        "import string\n",
        "import re\n",
        "import csv\n",
        "from word2number import w2n\n",
        "import nltk\n",
        "nltk.download('stopwords')\n",
        "from nltk.stem import PorterStemmer\n",
        "from nltk.corpus import stopwords\n",
        "import datetime\n",
        "from array import array\n",
        "import math\n",
        "import numpy as np\n",
        "import time\n",
        "import collections\n",
        "from collections import defaultdict\n",
        "from numpy import linalg as la"
      ]
    },
    {
      "cell_type": "markdown",
      "metadata": {
        "id": "UmkZVF_uzzSn"
      },
      "source": [
        "### **Part 0 - Preprocessing** (part 1 of the project)"
      ]
    },
    {
      "cell_type": "code",
      "execution_count": 4,
      "metadata": {
        "colab": {
          "base_uri": "https://localhost:8080/"
        },
        "id": "3hAraVjiz4TC",
        "outputId": "801e6c38-ccc7-4b05-d083-250f1961d470"
      },
      "outputs": [
        {
          "output_type": "stream",
          "name": "stdout",
          "text": [
            "Mounted at /content/drive\n"
          ]
        }
      ],
      "source": [
        "from google.colab import drive\n",
        "drive.mount('/content/drive', force_remount=True)"
      ]
    },
    {
      "cell_type": "code",
      "execution_count": 5,
      "metadata": {
        "id": "j-ncA2fDzpYi"
      },
      "outputs": [],
      "source": [
        "data_path\n",
        "with open(data_path) as fp:\n",
        "    data = fp.readlines()"
      ]
    },
    {
      "cell_type": "code",
      "execution_count": 6,
      "metadata": {
        "id": "MDlHiOI9TkaP"
      },
      "outputs": [],
      "source": [
        "#importing the map id => document name \n",
        "doc_id_dict = {}\n",
        "with open(map_path) as map_file:\n",
        "    tsv_reader = csv.reader(map_file, delimiter=\"\\t\")\n",
        "    for line in tsv_reader:\n",
        "      (doc, id) = line\n",
        "      doc_id_dict[int(id)] = doc"
      ]
    },
    {
      "cell_type": "code",
      "execution_count": 7,
      "metadata": {
        "colab": {
          "base_uri": "https://localhost:8080/"
        },
        "id": "ExNECp6AOTL9",
        "outputId": "beb1811f-d4e6-4697-81a7-4468bde856b0"
      },
      "outputs": [
        {
          "output_type": "stream",
          "name": "stdout",
          "text": [
            "Total number of Tweets in the dataset: 4000\n",
            "Total number of Tweets in the map: 4000\n"
          ]
        }
      ],
      "source": [
        "print(\"Total number of Tweets in the dataset: {}\".format(len(data)))\n",
        "print(\"Total number of Tweets in the map: {}\".format(len(doc_id_dict)))"
      ]
    },
    {
      "cell_type": "code",
      "execution_count": 8,
      "metadata": {
        "id": "yYiS-ZsfQczW"
      },
      "outputs": [],
      "source": [
        "data = [json.loads(x) for x in data] # transform each tweet from string to dictionnary "
      ]
    },
    {
      "cell_type": "code",
      "execution_count": 9,
      "metadata": {
        "id": "fNUhg-LwTLmL"
      },
      "outputs": [],
      "source": [
        "def create_struct(data):\n",
        "  \"\"\"\n",
        "  Extract the fields tweet, username, date, hashtag, number of likes, the number of retweets and the tweet url from each tweet. \n",
        "  \n",
        "  Argument:\n",
        "  data -- An array of tweets (dictionnaries) that contain the keys full_text, user, created_at, entities and retweet_count. User and entities \n",
        "  correspond both to dictionnaries containing keys screen_name and favourites_count respectively. \n",
        "\n",
        "  Returns:\n",
        "  collection -- A collection of dictionnaries where the key corresponds to the dictionnary name. Each value is another dictionnary containing the fields \n",
        "  of interest. \n",
        "\n",
        "  \"\"\"\n",
        "  collection = {}     # dictionary of dictionaries\n",
        "\n",
        "  for tweet in data:\n",
        "    doc_dict = {}\n",
        "    id = tweet['id']\n",
        "    doc_name = doc_id_dict[id]\n",
        "\n",
        "    doc_dict['id'] = id\n",
        "    doc_dict['tweet'] = tweet['full_text']\n",
        "    doc_dict['username'] = tweet['user']['screen_name']\n",
        "    doc_dict['date'] = datetime.datetime.strptime(tweet['created_at'], '%a %b %d %H:%M:%S %z %Y') #convert to date time \n",
        "    doc_dict['hashtag'] = [x['text'] for x in tweet['entities']['hashtags']] #text of te hashtag \n",
        "    doc_dict['likes'] = tweet['user']['favourites_count']\n",
        "    doc_dict['retweet'] = tweet ['retweet_count'] # can also be field retweeted (true)\n",
        "    doc_dict['url'] = \"https://twitter.com/\" +  doc_dict['username'] + \"/status/\" + str(id) #https://twitter.com/[screen name]/status/[Tweet ID]\n",
        "    collection[doc_name] = doc_dict\n",
        "\n",
        "  return collection"
      ]
    },
    {
      "cell_type": "code",
      "execution_count": 10,
      "metadata": {
        "id": "3qEugdl8eEG7"
      },
      "outputs": [],
      "source": [
        "# to handle turning written numbers into digits\n",
        "\n",
        "def is_written_num(word):\n",
        "  # returns True only if it is a written number\n",
        "  # returns False if it is a digit or something else\n",
        "  try:\n",
        "    w2n.word_to_num(word)\n",
        "    try: \n",
        "      int(word)\n",
        "      return False\n",
        "    except:\n",
        "      return True\n",
        "  except:\n",
        "    return False\n",
        "\n",
        "# given an array of strings, takes all written numbers and makes them digits\n",
        "def make_numbers_digits(text):\n",
        "  consec_num = False\n",
        "  num_string = ''\n",
        "  result = []\n",
        "\n",
        "  for word in text:\n",
        "    if not is_written_num(word):\n",
        "      if consec_num:\n",
        "        result.append(str(w2n.word_to_num(num_string)))\n",
        "        consec_num = False\n",
        "        num_string = ''\n",
        "      result.append(word)\n",
        "    else:\n",
        "      consec_num = True\n",
        "      num_string += ' ' + word\n",
        "\n",
        "  if consec_num:\n",
        "    result.append(str(w2n.word_to_num(num_string)))\n",
        "\n",
        "  return result"
      ]
    },
    {
      "cell_type": "code",
      "execution_count": 11,
      "metadata": {
        "id": "c7JnmEnCk0e8"
      },
      "outputs": [],
      "source": [
        "def treat_hashtags(text):\n",
        "  remove_hashtag = text[1:]\n",
        "  split_lower_upper = re.sub(r\"([A-Z])\", r\" \\1\", remove_hashtag)\n",
        "  return split_lower_upper"
      ]
    },
    {
      "cell_type": "code",
      "execution_count": 12,
      "metadata": {
        "id": "r9e-Mq88cegp"
      },
      "outputs": [],
      "source": [
        "def build_terms(line):\n",
        "    \"\"\"\n",
        "    Preprocess the article text (title + body) removing stop words, stemming,\n",
        "    transforming in lowercase and return the tokens of the text.\n",
        "    \n",
        "    Argument:\n",
        "    line -- string (text) to be preprocessed\n",
        "    \n",
        "    Returns:\n",
        "    line - a list of tokens corresponding to the input text after the preprocessing\n",
        "    \"\"\"\n",
        "\n",
        "    # define stemmer and reference lists\n",
        "    stemmer = PorterStemmer()\n",
        "    stop_words = set(stopwords.words(\"english\"))\n",
        "    whitelist = string.ascii_letters + string.digits + ' '\n",
        "\n",
        "    # clean text\n",
        "    line = re.sub(r'http\\S+', '', line) # remove urls\n",
        "    line = re.sub(r'@\\S+', '', line) # remove mentioned users\n",
        "    line = ' '.join([treat_hashtags(i) if i.startswith(\"#\") else i for i in line.split()]) # deal with hashtags\n",
        "    line = line.replace(\"-\", \" \") # deal with dashes\n",
        "    line = line.replace(\"$\", \" dollars\") # deal with currencies  \n",
        "    line = line.replace(\"€\", \" euros\") # deal with currencies  \n",
        "    line = ''.join([char if char in whitelist else ' ' for char in line]) # remove all symbols (leave only letters, digits, # and spaces)\n",
        "    line = line.lower() ## Transform in lowercase\n",
        "    line = line.split() ## Tokenize the text to get a list of terms\n",
        "    line = [x for x in line if x not in stop_words]  ##eliminate the stopwords (HINT: use List Comprehension)\n",
        "    line = [stemmer.stem(x) for x in line ] ## perform stemming (HINT: use List Comprehension)\n",
        "    line = make_numbers_digits(line) # turn written numbers into digits\n",
        "    line = [x for x in line if (len(x) > 1 or x.isdigit()) ] # remove single letters\n",
        "\n",
        "    return line"
      ]
    },
    {
      "cell_type": "code",
      "execution_count": 13,
      "metadata": {
        "id": "M9UUL337vgC7"
      },
      "outputs": [],
      "source": [
        "data = create_struct(data)  # transform data\n"
      ]
    },
    {
      "cell_type": "markdown",
      "metadata": {
        "id": "aGKBWtetqIaq"
      },
      "source": [
        "## **Part 1 - Indexing**"
      ]
    },
    {
      "cell_type": "markdown",
      "metadata": {
        "id": "-rgYGMTBu-CJ"
      },
      "source": [
        "**1. First step: CREATE TF IDF INDEX**"
      ]
    },
    {
      "cell_type": "code",
      "execution_count": 14,
      "metadata": {
        "id": "Nt0RSXhvqWp2"
      },
      "outputs": [],
      "source": [
        "def create_index_tfidf(collection, num_documents):\n",
        "    \"\"\"\n",
        "    Implement the inverted index and compute tf, df and idf\n",
        "    \n",
        "    Argument:\n",
        "    collection -- collection of tweets \n",
        "    num_documents -- total number of documents\n",
        "    \n",
        "    Returns:\n",
        "    index - the inverted index (implemented through a Python dictionary) containing terms as keys and the corresponding\n",
        "    list of document these keys appears in (and the positions) as values.\n",
        "    tf - normalized term frequency for each term in each document\n",
        "    df - number of documents each term appear in\n",
        "    idf - inverse document frequency of each term\n",
        "    \"\"\"\n",
        "\n",
        "    index = defaultdict(list)\n",
        "    tf = defaultdict(list)  # term frequencies of terms in documents (documents in the same order as in the main index)\n",
        "    df = defaultdict(int)  # document frequencies of terms in the corpus\n",
        "    title_index = defaultdict(str)\n",
        "    idf = defaultdict(float)\n",
        "\n",
        "    for key in collection:\n",
        "        doc = collection[key]\n",
        "        title_index[key] = doc['id']\n",
        "        terms = build_terms(doc['tweet']) #retrieves a dict \n",
        "\n",
        "        current_page_index = {}\n",
        "\n",
        "        for position, term in enumerate(terms):\n",
        "            try:\n",
        "                current_page_index[term][1].append(position) # term already added in doc array \n",
        "            except:\n",
        "                current_page_index[term]=[key, [position]]\n",
        "\n",
        "        #normalize term frequencies\n",
        "        #norm is the square root of the sum of the frequency of each term squared\n",
        "        norm = 0\n",
        "        for term, posting in current_page_index.items():\n",
        "            norm += len(posting[1]) ** 2 #len(posting[1]) == number of times it appears in the doc (frecuency of a term)\n",
        "        norm = math.sqrt(norm) \n",
        "\n",
        "        # compute the tf(dividing the term frequency by the above computed norm) and df weights\n",
        "        for term, posting in current_page_index.items():\n",
        "            tf[term].append(np.round(len(posting[1])/norm,4)) #tf is frecuency of the term / norm\n",
        "            df[term] = df[term] + 1 # df is number of documents where that doc appears (we increment it by one)\n",
        "\n",
        "        for term_page, posting_page in current_page_index.items():\n",
        "            index[term_page].append(posting_page) #for each term add this doc and its position to the general index\n",
        "\n",
        "        for term in df:\n",
        "            idf[term] = np.round(np.log(float(num_documents/df[term])), 4) #idf of the term is log ( num_docs / df [term])\n",
        "\n",
        "    return index, tf, df, idf, title_index\n"
      ]
    },
    {
      "cell_type": "code",
      "execution_count": 15,
      "metadata": {
        "colab": {
          "base_uri": "https://localhost:8080/"
        },
        "id": "-o6zCyigunhZ",
        "outputId": "a5fb8215-a723-4531-f109-d3356c89c175"
      },
      "outputs": [
        {
          "output_type": "stream",
          "name": "stdout",
          "text": [
            "Total time to create the index: 202.49 seconds\n"
          ]
        }
      ],
      "source": [
        "start_time = time.time()\n",
        "num_documents = len(data)\n",
        "index, tf, df_, idf, title_index = create_index_tfidf(data, num_documents)\n",
        "print(\"Total time to create the index: {} seconds\" .format(np.round(time.time() - start_time, 2)))"
      ]
    },
    {
      "cell_type": "markdown",
      "metadata": {
        "id": "rRVVGaRUyXJh"
      },
      "source": [
        "**2- Second Step: Rank Documents**"
      ]
    },
    {
      "cell_type": "code",
      "execution_count": 16,
      "metadata": {
        "id": "PknW24fNyLyo"
      },
      "outputs": [],
      "source": [
        "def rank_documents(terms, docs, index, idf, tf, title_index):\n",
        "    \"\"\"\n",
        "    Perform the ranking of the results of a search based on the tf-idf weights\n",
        "    \n",
        "    Argument:\n",
        "    terms -- list of query terms\n",
        "    docs -- list of documents, to rank, matching the query\n",
        "    index -- inverted index data structure\n",
        "    idf -- inverted document frequencies\n",
        "    tf -- term frequencies\n",
        "    title_index -- mapping between page id and page title\n",
        "    \n",
        "    Returns:\n",
        "    Print the list of ranked documents\n",
        "    \"\"\"\n",
        "\n",
        "    # I'm interested only on the element of the docVector corresponding to the query terms \n",
        "    doc_vectors = defaultdict(lambda: [0] * len(terms)) # for each doc we have a dict where the key is each term of the query term and the value its score\n",
        "    query_vector = [0] * len(terms)\n",
        "\n",
        "    # compute the norm for the query tf\n",
        "    query_terms_count = collections.Counter(terms)  # get the frequency of each term in the query. \n",
        "    query_norm = la.norm(list(query_terms_count.values())) #normalize it \n",
        "\n",
        "    for termIndex, term in enumerate(terms):  #for each term in the query \n",
        "        if term not in index: #if term is not in index go to the next term \n",
        "            continue\n",
        "\n",
        "        query_vector[termIndex]=query_terms_count[term]/query_norm * idf[term]  #tf of the term * idf term \n",
        "\n",
        "        # Generate doc_vectors. For each doc & each term we have a score \n",
        "        for doc_index, (doc, postings) in enumerate(index[term]): #for each document containing that term \n",
        "\n",
        "            #tf[term][0] will contain the tf of the term \"term\" in the doc 26            \n",
        "            if doc in docs: \n",
        "                doc_vectors[doc][termIndex] = tf[term][doc_index] * idf[term]  #take the tf in that doc and multiply it by the idf \n",
        "\n",
        "    #compute cosine similarity between query_vector & the doc_vecotr \n",
        "    doc_scores=[[np.dot(curDocVec, query_vector), doc] for doc, curDocVec in doc_vectors.items() ] \n",
        "    doc_scores.sort(reverse=True)  \n",
        "    result_docs = [x[1] for x in doc_scores]\n",
        "    #print document titles instead if document id's\n",
        "    #result_docs=[ title_index[x] for x in result_docs ]\n",
        "    if len(result_docs) == 0:\n",
        "        print(\"No results found, try again\")\n",
        "        query = input()\n",
        "        docs = search_tf_idf(query, index)\n",
        "    #print ('\\n'.join(result_docs), '\\n')\n",
        "    return result_docs"
      ]
    },
    {
      "cell_type": "code",
      "execution_count": 17,
      "metadata": {
        "id": "9griBFEQyeA3"
      },
      "outputs": [],
      "source": [
        "def search_tf_idf(query, index):\n",
        "    \"\"\"\n",
        "    output is the list of documents that contain any of the query terms. \n",
        "    So, we will get the list of documents for each query term, and take the union of them.\n",
        "    \"\"\"\n",
        "    query = build_terms(query)\n",
        "    docs =  set()\n",
        "    first_time = True\n",
        "    for term in query: #take a list of all documents that contain all the terms\n",
        "        try:\n",
        "            # store in term_docs the ids of the docs that contain \"term\"                        \n",
        "            term_docs=[posting[0] for posting in index[term]]\n",
        "            # we changed union by intersection so that we get only docs withh all the terms in the query\n",
        "            if first_time: #first term\n",
        "                docs = docs.union(set(term_docs))\n",
        "                first_time = False\n",
        "            else:\n",
        "                docs = docs.intersection(set(term_docs))\n",
        "        except:\n",
        "            #term is not in index\n",
        "            pass\n",
        "\n",
        "    docs = list(docs)\n",
        "    ranked_docs = rank_documents(query, docs, index, idf, tf, title_index)\n",
        "    return ranked_docs"
      ]
    },
    {
      "cell_type": "code",
      "source": [
        "queries = [ 'Landfall in South Carolina',\n",
        "            'Recovery during the hurricane disaster',\n",
        "            'Floodings in South Carolina',\n",
        "            'Update on Florida hurricane',\n",
        "            'Internet out',\n",
        "            'Tips to be safe',\n",
        "            'Deaths because of hurricane',\n",
        "            'Safe roads' ]"
      ],
      "metadata": {
        "id": "wF6O5coCNEM7"
      },
      "execution_count": 18,
      "outputs": []
    },
    {
      "cell_type": "markdown",
      "source": [
        "In the file TF-IDF_results.txt we store the results for each query. We do this to have a better visualization of the results."
      ],
      "metadata": {
        "id": "EoywkufCR5Kt"
      }
    },
    {
      "cell_type": "code",
      "source": [
        "top = 10\n",
        "\n",
        "with open(tf_idf_path, 'w') as f:\n",
        "  for i in queries:\n",
        "    ranked_docs = search_tf_idf(i, index)\n",
        "    f.write(\"\\n======================\\nTop {} results out of {} for the searched query  {}:\\n\".format(top, len(ranked_docs), i))\n",
        "    for d_id in ranked_docs[:top]:\n",
        "        f.write(\"doc_number= {} - tweet_id: {}\\n\".format(d_id, title_index[d_id]))\n",
        "        f.write(\"tweet: {}\\n\\n\".format(data[d_id][\"tweet\"]))\n",
        "f.close()"
      ],
      "metadata": {
        "id": "7owpY3VYPCfn"
      },
      "execution_count": 19,
      "outputs": []
    },
    {
      "cell_type": "code",
      "source": [
        "top = 10\n",
        "queries_ranked_docs = []\n",
        "for i in queries:\n",
        "  queries_ranked_docs.append(search_tf_idf(i, index))"
      ],
      "metadata": {
        "id": "jryGWPHqOE5l"
      },
      "execution_count": 20,
      "outputs": []
    },
    {
      "cell_type": "markdown",
      "source": [
        "## **Part 2 - Evaluation**"
      ],
      "metadata": {
        "id": "OZTCrmKqR0ld"
      }
    },
    {
      "cell_type": "markdown",
      "source": [
        "We first create the structure to store the relevance assessments."
      ],
      "metadata": {
        "id": "7CswDBoWHBG_"
      }
    },
    {
      "cell_type": "code",
      "source": [
        "import pandas as pd\n",
        "df = pd.DataFrame(data={'id': range(len(data)),\n",
        "                        'docs': np.array(data.keys()),\n",
        "                        'query_1': [0]*len(data),\n",
        "                        'query_2': [0]*len(data),\n",
        "                        'query_3': [0]*len(data),\n",
        "                        'query_4': [0]*len(data),\n",
        "                        'query_5': [0]*len(data),\n",
        "                        'query_6': [0]*len(data),\n",
        "                        'query_7': [0]*len(data),\n",
        "                        'query_8': [0]*len(data)\n",
        "                        }\n",
        "                  )"
      ],
      "metadata": {
        "id": "YPgAE29VGs_p"
      },
      "execution_count": 21,
      "outputs": []
    },
    {
      "cell_type": "code",
      "source": [
        "df.info()"
      ],
      "metadata": {
        "colab": {
          "base_uri": "https://localhost:8080/"
        },
        "id": "yTk_ckNWj41K",
        "outputId": "39f048f7-b70a-4cfb-b1f5-28efe546228d"
      },
      "execution_count": 22,
      "outputs": [
        {
          "output_type": "stream",
          "name": "stdout",
          "text": [
            "<class 'pandas.core.frame.DataFrame'>\n",
            "RangeIndex: 4000 entries, 0 to 3999\n",
            "Data columns (total 10 columns):\n",
            " #   Column   Non-Null Count  Dtype \n",
            "---  ------   --------------  ----- \n",
            " 0   id       4000 non-null   int64 \n",
            " 1   docs     4000 non-null   object\n",
            " 2   query_1  4000 non-null   int64 \n",
            " 3   query_2  4000 non-null   int64 \n",
            " 4   query_3  4000 non-null   int64 \n",
            " 5   query_4  4000 non-null   int64 \n",
            " 6   query_5  4000 non-null   int64 \n",
            " 7   query_6  4000 non-null   int64 \n",
            " 8   query_7  4000 non-null   int64 \n",
            " 9   query_8  4000 non-null   int64 \n",
            "dtypes: int64(9), object(1)\n",
            "memory usage: 312.6+ KB\n"
          ]
        }
      ]
    },
    {
      "cell_type": "code",
      "source": [
        "# importing our relevance assessments\n",
        "with open(our_rel_asses_path) as eval_file:\n",
        "    tsv_reader = csv.reader(eval_file, delimiter=\";\")\n",
        "    for line in tsv_reader:\n",
        "      (doc, query, rel) = line\n",
        "      if doc==\"\" or query ==\"\" or rel==\"\":\n",
        "        break\n",
        "      df.loc[df['docs'] == doc, [query]] = int(rel)\n",
        "eval_file.close()"
      ],
      "metadata": {
        "id": "8SZs0EdKIfEp"
      },
      "execution_count": 23,
      "outputs": []
    },
    {
      "cell_type": "code",
      "source": [
        "#importing the given relevance assessments\n",
        "with open(evaluation_gt_path) as eval_file:\n",
        "    tsv_reader = csv.reader(eval_file, delimiter=\",\", )\n",
        "    for line in tsv_reader:\n",
        "      (doc, query, rel) = line\n",
        "      if doc == \"doc\":\n",
        "        continue\n",
        "      if doc==\"\" or query ==\"\" or rel==\"\":\n",
        "        break\n",
        "      query_string = \"query_\" + str(query)\n",
        "      df.loc[df['docs'] == doc, [query_string]] = int(rel)\n",
        "eval_file.close()"
      ],
      "metadata": {
        "id": "tmef_zbtq12i"
      },
      "execution_count": 24,
      "outputs": []
    },
    {
      "cell_type": "code",
      "source": [
        "df.info()"
      ],
      "metadata": {
        "colab": {
          "base_uri": "https://localhost:8080/"
        },
        "id": "NnAMS0LCj9oO",
        "outputId": "cf795345-f902-4fde-e5ae-b86a8f483b83"
      },
      "execution_count": 25,
      "outputs": [
        {
          "output_type": "stream",
          "name": "stdout",
          "text": [
            "<class 'pandas.core.frame.DataFrame'>\n",
            "RangeIndex: 4000 entries, 0 to 3999\n",
            "Data columns (total 10 columns):\n",
            " #   Column   Non-Null Count  Dtype \n",
            "---  ------   --------------  ----- \n",
            " 0   id       4000 non-null   int64 \n",
            " 1   docs     4000 non-null   object\n",
            " 2   query_1  4000 non-null   int64 \n",
            " 3   query_2  4000 non-null   int64 \n",
            " 4   query_3  4000 non-null   int64 \n",
            " 5   query_4  4000 non-null   int64 \n",
            " 6   query_5  4000 non-null   int64 \n",
            " 7   query_6  4000 non-null   int64 \n",
            " 8   query_7  4000 non-null   int64 \n",
            " 9   query_8  4000 non-null   int64 \n",
            "dtypes: int64(9), object(1)\n",
            "memory usage: 312.6+ KB\n"
          ]
        }
      ]
    },
    {
      "cell_type": "markdown",
      "source": [
        "We assign binary relevance"
      ],
      "metadata": {
        "id": "AK_HP6CpNhnX"
      }
    },
    {
      "cell_type": "code",
      "source": [
        "df['query_1_bin'] = df['query_1'] != 0 \n",
        "df['query_2_bin'] = df['query_2'] != 0 \n",
        "df['query_3_bin'] = df['query_3'] != 0 \n",
        "df['query_4_bin'] = df['query_4'] != 0 \n",
        "df['query_5_bin'] = df['query_5'] != 0 \n",
        "df['query_6_bin'] = df['query_6'] != 0 \n",
        "df['query_7_bin'] = df['query_7'] != 0 \n",
        "df['query_8_bin'] = df['query_8'] != 0 "
      ],
      "metadata": {
        "id": "R-jT6gxqNKzi"
      },
      "execution_count": 26,
      "outputs": []
    },
    {
      "cell_type": "code",
      "source": [
        "df.head()"
      ],
      "metadata": {
        "colab": {
          "base_uri": "https://localhost:8080/",
          "height": 270
        },
        "id": "PAE4NNpRMWfJ",
        "outputId": "b7ab5231-6394-4634-a0c2-12f8570cc197"
      },
      "execution_count": 27,
      "outputs": [
        {
          "output_type": "execute_result",
          "data": {
            "text/plain": [
              "   id   docs  query_1  query_2  query_3  query_4  query_5  query_6  query_7  \\\n",
              "0   0  doc_1        0        0        0        0        0        0        0   \n",
              "1   1  doc_2        0        0        0        0        0        0        0   \n",
              "2   2  doc_3        0        0        0        0        0        0        0   \n",
              "3   3  doc_4        0        0        0        0        0        0        0   \n",
              "4   4  doc_5        0        0        0        0        0        0        0   \n",
              "\n",
              "   query_8  query_1_bin  query_2_bin  query_3_bin  query_4_bin  query_5_bin  \\\n",
              "0        0        False        False        False        False        False   \n",
              "1        1        False        False        False        False        False   \n",
              "2        0        False        False        False        False        False   \n",
              "3        0        False        False        False        False        False   \n",
              "4        0        False        False        False        False        False   \n",
              "\n",
              "   query_6_bin  query_7_bin  query_8_bin  \n",
              "0        False        False        False  \n",
              "1        False        False         True  \n",
              "2        False        False        False  \n",
              "3        False        False        False  \n",
              "4        False        False        False  "
            ],
            "text/html": [
              "\n",
              "  <div id=\"df-65f275c3-f0ce-4c15-ae34-6ec93eb35d0a\">\n",
              "    <div class=\"colab-df-container\">\n",
              "      <div>\n",
              "<style scoped>\n",
              "    .dataframe tbody tr th:only-of-type {\n",
              "        vertical-align: middle;\n",
              "    }\n",
              "\n",
              "    .dataframe tbody tr th {\n",
              "        vertical-align: top;\n",
              "    }\n",
              "\n",
              "    .dataframe thead th {\n",
              "        text-align: right;\n",
              "    }\n",
              "</style>\n",
              "<table border=\"1\" class=\"dataframe\">\n",
              "  <thead>\n",
              "    <tr style=\"text-align: right;\">\n",
              "      <th></th>\n",
              "      <th>id</th>\n",
              "      <th>docs</th>\n",
              "      <th>query_1</th>\n",
              "      <th>query_2</th>\n",
              "      <th>query_3</th>\n",
              "      <th>query_4</th>\n",
              "      <th>query_5</th>\n",
              "      <th>query_6</th>\n",
              "      <th>query_7</th>\n",
              "      <th>query_8</th>\n",
              "      <th>query_1_bin</th>\n",
              "      <th>query_2_bin</th>\n",
              "      <th>query_3_bin</th>\n",
              "      <th>query_4_bin</th>\n",
              "      <th>query_5_bin</th>\n",
              "      <th>query_6_bin</th>\n",
              "      <th>query_7_bin</th>\n",
              "      <th>query_8_bin</th>\n",
              "    </tr>\n",
              "  </thead>\n",
              "  <tbody>\n",
              "    <tr>\n",
              "      <th>0</th>\n",
              "      <td>0</td>\n",
              "      <td>doc_1</td>\n",
              "      <td>0</td>\n",
              "      <td>0</td>\n",
              "      <td>0</td>\n",
              "      <td>0</td>\n",
              "      <td>0</td>\n",
              "      <td>0</td>\n",
              "      <td>0</td>\n",
              "      <td>0</td>\n",
              "      <td>False</td>\n",
              "      <td>False</td>\n",
              "      <td>False</td>\n",
              "      <td>False</td>\n",
              "      <td>False</td>\n",
              "      <td>False</td>\n",
              "      <td>False</td>\n",
              "      <td>False</td>\n",
              "    </tr>\n",
              "    <tr>\n",
              "      <th>1</th>\n",
              "      <td>1</td>\n",
              "      <td>doc_2</td>\n",
              "      <td>0</td>\n",
              "      <td>0</td>\n",
              "      <td>0</td>\n",
              "      <td>0</td>\n",
              "      <td>0</td>\n",
              "      <td>0</td>\n",
              "      <td>0</td>\n",
              "      <td>1</td>\n",
              "      <td>False</td>\n",
              "      <td>False</td>\n",
              "      <td>False</td>\n",
              "      <td>False</td>\n",
              "      <td>False</td>\n",
              "      <td>False</td>\n",
              "      <td>False</td>\n",
              "      <td>True</td>\n",
              "    </tr>\n",
              "    <tr>\n",
              "      <th>2</th>\n",
              "      <td>2</td>\n",
              "      <td>doc_3</td>\n",
              "      <td>0</td>\n",
              "      <td>0</td>\n",
              "      <td>0</td>\n",
              "      <td>0</td>\n",
              "      <td>0</td>\n",
              "      <td>0</td>\n",
              "      <td>0</td>\n",
              "      <td>0</td>\n",
              "      <td>False</td>\n",
              "      <td>False</td>\n",
              "      <td>False</td>\n",
              "      <td>False</td>\n",
              "      <td>False</td>\n",
              "      <td>False</td>\n",
              "      <td>False</td>\n",
              "      <td>False</td>\n",
              "    </tr>\n",
              "    <tr>\n",
              "      <th>3</th>\n",
              "      <td>3</td>\n",
              "      <td>doc_4</td>\n",
              "      <td>0</td>\n",
              "      <td>0</td>\n",
              "      <td>0</td>\n",
              "      <td>0</td>\n",
              "      <td>0</td>\n",
              "      <td>0</td>\n",
              "      <td>0</td>\n",
              "      <td>0</td>\n",
              "      <td>False</td>\n",
              "      <td>False</td>\n",
              "      <td>False</td>\n",
              "      <td>False</td>\n",
              "      <td>False</td>\n",
              "      <td>False</td>\n",
              "      <td>False</td>\n",
              "      <td>False</td>\n",
              "    </tr>\n",
              "    <tr>\n",
              "      <th>4</th>\n",
              "      <td>4</td>\n",
              "      <td>doc_5</td>\n",
              "      <td>0</td>\n",
              "      <td>0</td>\n",
              "      <td>0</td>\n",
              "      <td>0</td>\n",
              "      <td>0</td>\n",
              "      <td>0</td>\n",
              "      <td>0</td>\n",
              "      <td>0</td>\n",
              "      <td>False</td>\n",
              "      <td>False</td>\n",
              "      <td>False</td>\n",
              "      <td>False</td>\n",
              "      <td>False</td>\n",
              "      <td>False</td>\n",
              "      <td>False</td>\n",
              "      <td>False</td>\n",
              "    </tr>\n",
              "  </tbody>\n",
              "</table>\n",
              "</div>\n",
              "      <button class=\"colab-df-convert\" onclick=\"convertToInteractive('df-65f275c3-f0ce-4c15-ae34-6ec93eb35d0a')\"\n",
              "              title=\"Convert this dataframe to an interactive table.\"\n",
              "              style=\"display:none;\">\n",
              "        \n",
              "  <svg xmlns=\"http://www.w3.org/2000/svg\" height=\"24px\"viewBox=\"0 0 24 24\"\n",
              "       width=\"24px\">\n",
              "    <path d=\"M0 0h24v24H0V0z\" fill=\"none\"/>\n",
              "    <path d=\"M18.56 5.44l.94 2.06.94-2.06 2.06-.94-2.06-.94-.94-2.06-.94 2.06-2.06.94zm-11 1L8.5 8.5l.94-2.06 2.06-.94-2.06-.94L8.5 2.5l-.94 2.06-2.06.94zm10 10l.94 2.06.94-2.06 2.06-.94-2.06-.94-.94-2.06-.94 2.06-2.06.94z\"/><path d=\"M17.41 7.96l-1.37-1.37c-.4-.4-.92-.59-1.43-.59-.52 0-1.04.2-1.43.59L10.3 9.45l-7.72 7.72c-.78.78-.78 2.05 0 2.83L4 21.41c.39.39.9.59 1.41.59.51 0 1.02-.2 1.41-.59l7.78-7.78 2.81-2.81c.8-.78.8-2.07 0-2.86zM5.41 20L4 18.59l7.72-7.72 1.47 1.35L5.41 20z\"/>\n",
              "  </svg>\n",
              "      </button>\n",
              "      \n",
              "  <style>\n",
              "    .colab-df-container {\n",
              "      display:flex;\n",
              "      flex-wrap:wrap;\n",
              "      gap: 12px;\n",
              "    }\n",
              "\n",
              "    .colab-df-convert {\n",
              "      background-color: #E8F0FE;\n",
              "      border: none;\n",
              "      border-radius: 50%;\n",
              "      cursor: pointer;\n",
              "      display: none;\n",
              "      fill: #1967D2;\n",
              "      height: 32px;\n",
              "      padding: 0 0 0 0;\n",
              "      width: 32px;\n",
              "    }\n",
              "\n",
              "    .colab-df-convert:hover {\n",
              "      background-color: #E2EBFA;\n",
              "      box-shadow: 0px 1px 2px rgba(60, 64, 67, 0.3), 0px 1px 3px 1px rgba(60, 64, 67, 0.15);\n",
              "      fill: #174EA6;\n",
              "    }\n",
              "\n",
              "    [theme=dark] .colab-df-convert {\n",
              "      background-color: #3B4455;\n",
              "      fill: #D2E3FC;\n",
              "    }\n",
              "\n",
              "    [theme=dark] .colab-df-convert:hover {\n",
              "      background-color: #434B5C;\n",
              "      box-shadow: 0px 1px 3px 1px rgba(0, 0, 0, 0.15);\n",
              "      filter: drop-shadow(0px 1px 2px rgba(0, 0, 0, 0.3));\n",
              "      fill: #FFFFFF;\n",
              "    }\n",
              "  </style>\n",
              "\n",
              "      <script>\n",
              "        const buttonEl =\n",
              "          document.querySelector('#df-65f275c3-f0ce-4c15-ae34-6ec93eb35d0a button.colab-df-convert');\n",
              "        buttonEl.style.display =\n",
              "          google.colab.kernel.accessAllowed ? 'block' : 'none';\n",
              "\n",
              "        async function convertToInteractive(key) {\n",
              "          const element = document.querySelector('#df-65f275c3-f0ce-4c15-ae34-6ec93eb35d0a');\n",
              "          const dataTable =\n",
              "            await google.colab.kernel.invokeFunction('convertToInteractive',\n",
              "                                                     [key], {});\n",
              "          if (!dataTable) return;\n",
              "\n",
              "          const docLinkHtml = 'Like what you see? Visit the ' +\n",
              "            '<a target=\"_blank\" href=https://colab.research.google.com/notebooks/data_table.ipynb>data table notebook</a>'\n",
              "            + ' to learn more about interactive tables.';\n",
              "          element.innerHTML = '';\n",
              "          dataTable['output_type'] = 'display_data';\n",
              "          await google.colab.output.renderOutput(dataTable, element);\n",
              "          const docLink = document.createElement('div');\n",
              "          docLink.innerHTML = docLinkHtml;\n",
              "          element.appendChild(docLink);\n",
              "        }\n",
              "      </script>\n",
              "    </div>\n",
              "  </div>\n",
              "  "
            ]
          },
          "metadata": {},
          "execution_count": 27
        }
      ]
    },
    {
      "cell_type": "markdown",
      "source": [
        "**Precision @K**"
      ],
      "metadata": {
        "id": "mo86fveEGlaI"
      }
    },
    {
      "cell_type": "code",
      "source": [
        "def precision_at_k(ranking, rel, query, k=10):\n",
        "    \"\"\"\n",
        "    Parameters\n",
        "    ----------\n",
        "    ranking: list of doc_ids ranked by descending order \n",
        "    rel: pd dataframe with doc_id and query binary relevance.\n",
        "    k : number of doc to consider.\n",
        "    query: the query as a string\n",
        "\n",
        "    Returns\n",
        "    -------\n",
        "    precision @k : float\n",
        "\n",
        "    \"\"\"\n",
        "    \n",
        "    order =  ranking[:k]\n",
        "    doc_score = [rel.loc[rel['docs']==i,[query]][query].bool() for i in order] #take relevance of those docs \n",
        "    relevant = np.array(doc_score).sum()\n",
        "    return relevant/k #divide it by k"
      ],
      "metadata": {
        "id": "XZy8uNyoGk7N"
      },
      "execution_count": 28,
      "outputs": []
    },
    {
      "cell_type": "code",
      "source": [
        "k=10\n",
        "print('==== Precision at k=10')\n",
        "for i in range(len(queries)):\n",
        "  q = 'query_' + str(i+1) +'_bin'\n",
        "  print(queries[i], ':', precision_at_k(queries_ranked_docs[i], df[['docs',q]], q, k))"
      ],
      "metadata": {
        "colab": {
          "base_uri": "https://localhost:8080/"
        },
        "id": "4xRpMnMyfpY1",
        "outputId": "2918d169-6d5f-4084-be52-05d4b4da976b"
      },
      "execution_count": 29,
      "outputs": [
        {
          "output_type": "stream",
          "name": "stdout",
          "text": [
            "==== Precision at k=10\n",
            "Landfall in South Carolina : 0.0\n",
            "Recovery during the hurricane disaster : 0.0\n",
            "Floodings in South Carolina : 0.3\n",
            "Update on Florida hurricane : 1.0\n",
            "Internet out : 0.8\n",
            "Tips to be safe : 0.8\n",
            "Deaths because of hurricane : 1.0\n",
            "Safe roads : 0.9\n"
          ]
        }
      ]
    },
    {
      "cell_type": "markdown",
      "source": [
        "**Recall @K**"
      ],
      "metadata": {
        "id": "DCJI0cwNg4x5"
      }
    },
    {
      "cell_type": "code",
      "source": [
        "def recall_at_k(ranking, rel, query, k=10):\n",
        "    \"\"\"\n",
        "    Parameters\n",
        "    ----------\n",
        "    ranking: list of doc_ids ranked by descending order \n",
        "    rel: pd dataframe with doc_id and query binary relevance.\n",
        "    k : number of doc to consider.\n",
        "    query: the query as a string\n",
        "\n",
        "    Returns\n",
        "    -------\n",
        "    precision @k : float\n",
        "\n",
        "    \"\"\"\n",
        "    \n",
        "    order =  ranking[:k]\n",
        "    doc_score = [rel.loc[rel['docs']==i,[query]][query].bool() for i in order] #take relevance of those docs \n",
        "    relevant = np.array(doc_score).sum()\n",
        "    total_relevant = rel[query].sum()\n",
        "    return relevant/total_relevant #divide it by total relevant documents"
      ],
      "metadata": {
        "id": "opnLfPjYV8om"
      },
      "execution_count": 30,
      "outputs": []
    },
    {
      "cell_type": "code",
      "source": [
        "k = 10\n",
        "print('==== Recall at k=10')\n",
        "for i in range(len(queries)):\n",
        "  q = 'query_' + str(i+1) +'_bin'\n",
        "  print('{} : {:.4f}'.format(queries[i], recall_at_k(queries_ranked_docs[i], df[['docs',q]], q, k)))"
      ],
      "metadata": {
        "colab": {
          "base_uri": "https://localhost:8080/"
        },
        "id": "z9sfViY1gehG",
        "outputId": "6123c8c8-0edb-4965-d5f2-ab02b766159c"
      },
      "execution_count": 31,
      "outputs": [
        {
          "output_type": "stream",
          "name": "stdout",
          "text": [
            "==== Recall at k=10\n",
            "Landfall in South Carolina : 0.0000\n",
            "Recovery during the hurricane disaster : 0.0000\n",
            "Floodings in South Carolina : 0.3750\n",
            "Update on Florida hurricane : 0.4348\n",
            "Internet out : 0.4000\n",
            "Tips to be safe : 1.0000\n",
            "Deaths because of hurricane : 0.3333\n",
            "Safe roads : 1.0000\n"
          ]
        }
      ]
    },
    {
      "cell_type": "markdown",
      "source": [
        "**F1  @K**"
      ],
      "metadata": {
        "id": "YeU3csb-g_16"
      }
    },
    {
      "cell_type": "code",
      "source": [
        "def f1_score_at_k (ranking, rel, query, k = 10):\n",
        "    \"\"\"\n",
        "    Parameters\n",
        "    ----------\n",
        "    ranking: list of doc_ids ranked by descending order \n",
        "    rel: pd dataframe with doc_id and query binary relevance.\n",
        "    k : number of doc to consider.\n",
        "    query: the query as a string\n",
        "\n",
        "    Returns\n",
        "    -------\n",
        "    average precision @k : float\n",
        "    \"\"\"\n",
        "    p = precision_at_k(ranking, rel, query, k)\n",
        "    r = recall_at_k(ranking, rel, query, k)\n",
        "\n",
        "    return ((2*r*p)/(r+p)) #we simply apply the formula"
      ],
      "metadata": {
        "id": "NY2aNweOYoOE"
      },
      "execution_count": 32,
      "outputs": []
    },
    {
      "cell_type": "code",
      "source": [
        "k = 10\n",
        "print('==== f1 score at k=10')\n",
        "for i in range(len(queries)):\n",
        "  q = 'query_' + str(i+1) +'_bin'\n",
        "  print('{} : {:.4f}'.format(queries[i], f1_score_at_k(queries_ranked_docs[i], df[['docs',q]], q, k)))"
      ],
      "metadata": {
        "colab": {
          "base_uri": "https://localhost:8080/"
        },
        "id": "yqIZBWvDgq3j",
        "outputId": "edd7120a-5f79-43a5-f224-4b8df6454fce"
      },
      "execution_count": 33,
      "outputs": [
        {
          "output_type": "stream",
          "name": "stdout",
          "text": [
            "==== f1 score at k=10\n",
            "Landfall in South Carolina : nan\n",
            "Recovery during the hurricane disaster : nan\n",
            "Floodings in South Carolina : 0.3333\n",
            "Update on Florida hurricane : 0.6061\n",
            "Internet out : 0.5333\n",
            "Tips to be safe : 0.8889\n",
            "Deaths because of hurricane : 0.5000\n"
          ]
        },
        {
          "output_type": "stream",
          "name": "stderr",
          "text": [
            "/usr/local/lib/python3.7/dist-packages/ipykernel_launcher.py:17: RuntimeWarning: invalid value encountered in double_scalars\n"
          ]
        },
        {
          "output_type": "stream",
          "name": "stdout",
          "text": [
            "Safe roads : 0.9474\n"
          ]
        }
      ]
    },
    {
      "cell_type": "markdown",
      "source": [
        "**AVG precision @K**"
      ],
      "metadata": {
        "id": "NnuZUGWHhDdT"
      }
    },
    {
      "cell_type": "code",
      "source": [
        "def avg_precision_at_k(ranking, rel, query, k=10):\n",
        "    \"\"\"\n",
        "    Parameters\n",
        "    ----------\n",
        "    ranking: list of doc_ids ranked by descending order \n",
        "    rel: pd dataframe with doc_id and query binary relevance.\n",
        "    k : number of doc to consider.\n",
        "    query: the query as a string\n",
        "\n",
        "    Returns\n",
        "    -------\n",
        "    average precision @k : float\n",
        "    \"\"\"\n",
        "    gtp = rel[query].sum() #all relevant docs\n",
        "    order =  ranking[:k]\n",
        "    doc_score = [rel.loc[rel['docs']==i,[query]][query].bool() for i in order] #take relevance of those docs \n",
        "    ## if all documents are not relevant\n",
        "    if gtp == 0:\n",
        "        return 0\n",
        "    n_relevant_at_i = 0\n",
        "    prec_at_i = 0\n",
        "    for i in range(len(doc_score)):\n",
        "        if doc_score[i] == True: #only add it when it is relevant \n",
        "            n_relevant_at_i +=  1\n",
        "            prec_at_i +=  n_relevant_at_i/(i+1) # number of relevant documents divided by th position +1 \n",
        "    return prec_at_i / gtp  #return ap "
      ],
      "metadata": {
        "id": "H1ZKpjecWr_r"
      },
      "execution_count": 34,
      "outputs": []
    },
    {
      "cell_type": "code",
      "source": [
        "k = 10\n",
        "print('==== Avg precision at k=10')\n",
        "for i in range(len(queries)):\n",
        "  q = 'query_' + str(i+1) +'_bin'\n",
        "  print('{} : {:.4f}'.format(queries[i], avg_precision_at_k(queries_ranked_docs[i], df[['docs',q]], q, k)))"
      ],
      "metadata": {
        "colab": {
          "base_uri": "https://localhost:8080/"
        },
        "id": "Uwce6kyeYOpH",
        "outputId": "898167c5-b2bf-47af-d1be-bb56acde0f1b"
      },
      "execution_count": 35,
      "outputs": [
        {
          "output_type": "stream",
          "name": "stdout",
          "text": [
            "==== Avg precision at k=10\n",
            "Landfall in South Carolina : 0.0000\n",
            "Recovery during the hurricane disaster : 0.0000\n",
            "Floodings in South Carolina : 0.1661\n",
            "Update on Florida hurricane : 0.4348\n",
            "Internet out : 0.3242\n",
            "Tips to be safe : 1.0000\n",
            "Deaths because of hurricane : 0.3333\n",
            "Safe roads : 1.0000\n"
          ]
        }
      ]
    },
    {
      "cell_type": "markdown",
      "source": [
        "**MAP @K**"
      ],
      "metadata": {
        "id": "ba8rOQFDhVcH"
      }
    },
    {
      "cell_type": "code",
      "source": [
        "def map_at_k(queries_ranked_docs, df, queries, k=10):\n",
        "    \"\"\"\n",
        "    Parameters\n",
        "    ----------\n",
        "    queries_ranked_docs: array of returned docs of our system ordered by  descending score for each query\n",
        "    df: data frame containing the doc_id, and for each query (query_id) the binary relevance assessment (true/false) of each doc\n",
        "    queries: different queries of our system\n",
        "\n",
        "\n",
        "    Returns\n",
        "    -------\n",
        "    mean average precision @ k : float\n",
        "    \"\"\"\n",
        "    avp = []\n",
        "    for i in range(len(queries)):  # loop over all query id\n",
        "        query = 'query_' + str(i+1) + '_bin'\n",
        "        avp.append(avg_precision_at_k(queries_ranked_docs[i],df[['docs',query]], query, k))  #append average precision for current query\n",
        "    return np.sum(avp) / len(avp), avp # return mean average precision"
      ],
      "metadata": {
        "id": "t81rKzuuZpZw"
      },
      "execution_count": 36,
      "outputs": []
    },
    {
      "cell_type": "code",
      "source": [
        "k=10\n",
        "map, avp = map_at_k(queries_ranked_docs,df, queries, k)\n",
        "print(\"Map at k = 10: \", map)"
      ],
      "metadata": {
        "colab": {
          "base_uri": "https://localhost:8080/"
        },
        "id": "ijr2E4DZactm",
        "outputId": "df220d1b-247e-4b7f-b610-6fb8c455bd7e"
      },
      "execution_count": 37,
      "outputs": [
        {
          "output_type": "stream",
          "name": "stdout",
          "text": [
            "Map at k = 10:  0.40730417529330576\n"
          ]
        }
      ]
    },
    {
      "cell_type": "markdown",
      "source": [
        "**MRR @K**"
      ],
      "metadata": {
        "id": "2WEbeRdbhli7"
      }
    },
    {
      "cell_type": "code",
      "source": [
        "def rr_at_k(ranking, rel, query, k=10):\n",
        "    \"\"\"\n",
        "    Parameters\n",
        "    ----------\n",
        "    ranking: list of doc_ids ranked by descending order \n",
        "    rel: pd dataframe with doc_id and query binary relevance.\n",
        "    k : number of doc to consider.\n",
        "    query: the query as a string\n",
        "\n",
        "    Returns\n",
        "    -------\n",
        "    Reciprocal Rank for qurrent query\n",
        "    \"\"\"\n",
        "    order =  ranking[:k]\n",
        "    doc_score = [rel.loc[rel['docs']==i,[query]][query].bool() for i in order] #take relevance of those docs \n",
        "    total_relevant = np.array(doc_score).sum()\n",
        "    if total_relevant == 0:  # if there are no relevant douments return 0\n",
        "        return 0\n",
        "    return 1 / (np.argmax(np.array(doc_score == True))+1)  # return position of first doc that is relevant\n"
      ],
      "metadata": {
        "id": "qtJDmcZSdpgK"
      },
      "execution_count": 38,
      "outputs": []
    },
    {
      "cell_type": "code",
      "source": [
        "k = 10\n",
        "print('==== MRR at k=10')\n",
        "for i in range(len(queries)):\n",
        "  q = 'query_' + str(i+1) +'_bin'\n",
        "  print('{} : {}'.format(queries[i], rr_at_k(queries_ranked_docs[i], df[['docs',q]], q, k)))"
      ],
      "metadata": {
        "colab": {
          "base_uri": "https://localhost:8080/"
        },
        "id": "CQcfoFCGe8mX",
        "outputId": "c58a8b33-13c2-40c4-9bff-c3b9aba6b092"
      },
      "execution_count": 39,
      "outputs": [
        {
          "output_type": "stream",
          "name": "stdout",
          "text": [
            "==== MRR at k=10\n",
            "Landfall in South Carolina : 0\n",
            "Recovery during the hurricane disaster : 0\n",
            "Floodings in South Carolina : 1.0\n",
            "Update on Florida hurricane : 1.0\n",
            "Internet out : 1.0\n",
            "Tips to be safe : 1.0\n",
            "Deaths because of hurricane : 1.0\n",
            "Safe roads : 1.0\n"
          ]
        }
      ]
    },
    {
      "cell_type": "markdown",
      "source": [
        "**NDCG**"
      ],
      "metadata": {
        "id": "P4A4VzCXhxdQ"
      }
    },
    {
      "cell_type": "code",
      "source": [
        "def dcg_at_k(ranking, rel, query, k=10):\n",
        "    order = ranking[:k] \n",
        "    doc_score =  [rel.loc[rel['docs']==i,[query]][query].bool() for i in order] \n",
        "    gain = 2** np.array(doc_score) -1  # Compute gain\n",
        "    discounts = np.log2(np.arange(len(doc_score)) + 2)  # Compute denominator np.arange (3) =[ 0 , 1 , 2 ]\n",
        "    return np.sum(gain / discounts)  #return dcg@k\n",
        "\n",
        "\n",
        "def ndcg_at_k(ranking, rel, query, k=10):\n",
        "    sorted_rel = df.sort_values(query, ascending=False)\n",
        "    ideal_ranking = sorted_rel.head(k)['docs'].tolist() #take k first docs\n",
        "    dcg_max = dcg_at_k(ideal_ranking, rel,query, k) # Ideal dcg\n",
        "    if not dcg_max:\n",
        "        return 0\n",
        "    return np.round(dcg_at_k(ranking, rel, query, k)/dcg_max, 4) # return ndcg@k"
      ],
      "metadata": {
        "id": "m2vJ_CTliB2S"
      },
      "execution_count": 40,
      "outputs": []
    },
    {
      "cell_type": "code",
      "source": [
        "k = 10\n",
        "print('==== NDCG at k=10')\n",
        "for i in range(len(queries)):\n",
        "  q = 'query_' + str(i+1) +'_bin'\n",
        "  print(queries[i], ':',ndcg_at_k(queries_ranked_docs[i], df[['docs',q]], q, k))"
      ],
      "metadata": {
        "colab": {
          "base_uri": "https://localhost:8080/"
        },
        "id": "83Xz_AmUi3I_",
        "outputId": "a79f3372-6e53-4846-ba76-06a6997cef74"
      },
      "execution_count": 41,
      "outputs": [
        {
          "output_type": "stream",
          "name": "stdout",
          "text": [
            "==== NDCG at k=10\n",
            "Landfall in South Carolina : 0.0\n",
            "Recovery during the hurricane disaster : 0.0\n",
            "Floodings in South Carolina : 0.3418\n",
            "Update on Florida hurricane : 1.0\n",
            "Internet out : 0.7917\n",
            "Tips to be safe : 1.0\n",
            "Deaths because of hurricane : 1.0\n",
            "Safe roads : 1.0\n"
          ]
        }
      ]
    },
    {
      "cell_type": "markdown",
      "source": [
        "### Vector Representation\n",
        "Finally, we have chosen the TF-IDF vector representation."
      ],
      "metadata": {
        "id": "P4gk_eCHN11v"
      }
    },
    {
      "cell_type": "code",
      "source": [
        "# get a list of all terms in the collection and sort them alphabetically\n",
        "terms = list(df_.keys())\n",
        "terms.sort()\n",
        "\n",
        "# get the total amount of terms\n",
        "num_of_terms = len(terms)\n",
        "\n",
        "# define a dictionary that maps a term to its position in the ordered list\n",
        "term_to_position = {terms[i] : i for i in range(num_of_terms)}"
      ],
      "metadata": {
        "id": "mUyge6ddSARI"
      },
      "execution_count": 42,
      "outputs": []
    },
    {
      "cell_type": "code",
      "source": [
        "# make a deep copy of the term frequencies obtained in the indexing function\n",
        "# important! because we use pop function to retrieve tf scores in order\n",
        "import copy\n",
        "tf_2 = copy.deepcopy(tf)\n",
        "\n",
        "# count time\n",
        "start_time = time.time()\n",
        "\n",
        "# define a dictionary to store vectors\n",
        "vectors = {}\n",
        "\n",
        "# for each document\n",
        "for doc in data.keys():\n",
        "\n",
        "  # define an array of zeros\n",
        "  vec = [0] * num_of_terms\n",
        "  terms = build_terms(data[doc]['tweet'])\n",
        "\n",
        "  # for each term in the document\n",
        "  for term in set(terms):\n",
        "\n",
        "    # compute score (tf * idf) and write it in the position\n",
        "    score = tf_2[term].pop(0) * idf[term]\n",
        "    vec[term_to_position[term]] = score\n",
        "  \n",
        "  # store vector\n",
        "  vectors[doc] = vec\n",
        "\n",
        "# get time\n",
        "print(\"Total time to create the vectors: {} seconds\" .format(np.round(time.time() - start_time, 2)))"
      ],
      "metadata": {
        "colab": {
          "base_uri": "https://localhost:8080/"
        },
        "id": "InPlixgUXBcA",
        "outputId": "575b5b43-c84d-4f4f-b398-8d68c4ba1412"
      },
      "execution_count": 43,
      "outputs": [
        {
          "output_type": "stream",
          "name": "stdout",
          "text": [
            "Total time to create the vectors: 3.16 seconds\n"
          ]
        }
      ]
    },
    {
      "cell_type": "markdown",
      "source": [
        "Once the TF-IDF vectors have been created we can use the T-SNE algorithm to reduce dimensionallity."
      ],
      "metadata": {
        "id": "n0-SwykAma40"
      }
    },
    {
      "cell_type": "code",
      "source": [
        "# data transformation for the TSNE model\n",
        "vector_matrix = [i for i in vectors.values()]\n",
        "vector_matrix = np.array(vector_matrix)"
      ],
      "metadata": {
        "id": "bBZ_eQTFthdW"
      },
      "execution_count": 44,
      "outputs": []
    },
    {
      "cell_type": "code",
      "source": [
        "from sklearn.manifold import TSNE\n",
        "\n",
        "# fit data into the TSNE model\n",
        "model = TSNE(n_components=2, verbose=1, random_state=123, perplexity=5)\n",
        "np.set_printoptions(suppress=True)\n",
        "z = model.fit_transform(vector_matrix) "
      ],
      "metadata": {
        "colab": {
          "base_uri": "https://localhost:8080/"
        },
        "id": "oLKs4loTVOdx",
        "outputId": "bf0771a5-6e04-4caf-87a8-ac721e4a59b6"
      },
      "execution_count": 45,
      "outputs": [
        {
          "output_type": "stream",
          "name": "stderr",
          "text": [
            "/usr/local/lib/python3.7/dist-packages/sklearn/manifold/_t_sne.py:783: FutureWarning: The default initialization in TSNE will change from 'random' to 'pca' in 1.2.\n",
            "  FutureWarning,\n",
            "/usr/local/lib/python3.7/dist-packages/sklearn/manifold/_t_sne.py:793: FutureWarning: The default learning rate in TSNE will change from 200.0 to 'auto' in 1.2.\n",
            "  FutureWarning,\n"
          ]
        },
        {
          "output_type": "stream",
          "name": "stdout",
          "text": [
            "[t-SNE] Computing 16 nearest neighbors...\n",
            "[t-SNE] Indexed 4000 samples in 0.023s...\n",
            "[t-SNE] Computed neighbors for 4000 samples in 4.227s...\n",
            "[t-SNE] Computed conditional probabilities for sample 1000 / 4000\n",
            "[t-SNE] Computed conditional probabilities for sample 2000 / 4000\n",
            "[t-SNE] Computed conditional probabilities for sample 3000 / 4000\n",
            "[t-SNE] Computed conditional probabilities for sample 4000 / 4000\n",
            "[t-SNE] Mean sigma: 0.000000\n",
            "[t-SNE] KL divergence after 250 iterations with early exaggeration: 169.495361\n",
            "[t-SNE] KL divergence after 1000 iterations: 4.820943\n"
          ]
        }
      ]
    },
    {
      "cell_type": "code",
      "source": [
        "# separate documents in different classes (based on whether they were retreived for a specific query)\n",
        "label = [0] * 4000\n",
        "\n",
        "q_num = 1\n",
        "\n",
        "# for each query, if a document was retrieved it will be labeled with the query number\n",
        "# if it was retrieved by multiple queries, it will be labeled with a 9\n",
        "# else will be labeled with a 0\n",
        "for i in queries:\n",
        "    ranked_docs = search_tf_idf(i, index)\n",
        "    for doc in ranked_docs:\n",
        "      doc_num = int(doc[4:])\n",
        "      if label[doc_num - 1] == 0:\n",
        "        label[doc_num - 1] = q_num\n",
        "      else:\n",
        "        label[doc_num - 1] = 9\n",
        "    q_num += 1"
      ],
      "metadata": {
        "id": "61weT-IHxF30"
      },
      "execution_count": 46,
      "outputs": []
    },
    {
      "cell_type": "code",
      "source": [
        "import matplotlib.pyplot as plt\n",
        "\n",
        "# get coordinates for each document\n",
        "x = z[:,0]\n",
        "y = z[:,1]\n",
        "\n",
        "# define figure\n",
        "fig, ax = plt.subplots(figsize=(12, 10))\n",
        "\n",
        "# define dolor, opacity and label name for each class\n",
        "c = ['darkturquoise', 'violet', 'blue', 'purple', 'green', 'yellow', 'cyan', 'coral', 'hotpink', 'black']\n",
        "a = [0.3, 1, 1, 1, 1, 1, 1, 1, 1, 1]\n",
        "l = ['No query'] + ['Query_{}'.format(i) for i in range(1, 9)] + ['Multiple queries']\n",
        "\n",
        "# scatter plot documents\n",
        "for n in range(10):\n",
        "  idx = [i for i in range(4000) if label[i] == n]\n",
        "  ax.scatter(x[idx], y[idx], c=c[n], alpha=a[n], label=l[n])\n",
        "\n",
        "ax.legend()\n",
        "plt.title('Documents as 2D Vectors')\n",
        "\n",
        "plt.show()"
      ],
      "metadata": {
        "colab": {
          "base_uri": "https://localhost:8080/",
          "height": 607
        },
        "id": "89-u9g9yu8kM",
        "outputId": "3648e7fd-bbc0-49ec-87cc-9c8f8ce055da"
      },
      "execution_count": 47,
      "outputs": [
        {
          "output_type": "display_data",
          "data": {
            "text/plain": [
              "<Figure size 864x720 with 1 Axes>"
            ],
            "image/png": "[encoded data removed]"
          },
          "metadata": {
            "needs_background": "light"
          }
        }
      ]
    }
  ],
  "metadata": {
    "colab": {
      "collapsed_sections": [],
      "provenance": []
    },
    "kernelspec": {
      "display_name": "Python 3",
      "name": "python3"
    },
    "language_info": {
      "name": "python"
    }
  },
  "nbformat": 4,
  "nbformat_minor": 0
}